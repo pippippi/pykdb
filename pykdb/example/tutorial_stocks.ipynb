{
 "cells": [
  {
   "cell_type": "code",
   "execution_count": 16,
   "metadata": {
    "collapsed": true
   },
   "outputs": [],
   "source": [
    "from pykdb import Stocks\n",
    "from datetime import datetime\n",
    "\n",
    "start = datetime(2016, 1, 4)\n",
    "end = datetime(2016, 1, 10)\n",
    "\n",
    "f = Stocks()"
   ]
  },
  {
   "cell_type": "code",
   "execution_count": 17,
   "metadata": {},
   "outputs": [
    {
     "data": {
      "text/plain": [
       "['1301-T',\n '1305-T',\n '1306-T',\n '1308-T',\n '1309-T',\n '1310-T',\n '1311-T',\n '1312-T',\n '1313-T',\n '1314-T']"
      ]
     },
     "execution_count": 17,
     "metadata": {},
     "output_type": "execute_result"
    }
   ],
   "source": [
    "f.symbols[0:10]"
   ]
  },
  {
   "cell_type": "code",
   "execution_count": 18,
   "metadata": {},
   "outputs": [
    {
     "data": {
      "text/plain": [
       "'8411-T みずほ'"
      ]
     },
     "execution_count": 18,
     "metadata": {},
     "output_type": "execute_result"
    }
   ],
   "source": [
    "f.names['8411-T']"
   ]
  },
  {
   "cell_type": "code",
   "execution_count": 20,
   "metadata": {},
   "outputs": [
    {
     "data": {
      "text/html": [
       "<div>\n",
       "<table border=\"1\" class=\"dataframe\">\n",
       "  <thead>\n",
       "    <tr style=\"text-align: right;\">\n",
       "      <th></th>\n",
       "      <th>始値</th>\n",
       "      <th>高値</th>\n",
       "      <th>安値</th>\n",
       "      <th>終値</th>\n",
       "      <th>出来高</th>\n",
       "      <th>売買代金</th>\n",
       "    </tr>\n",
       "    <tr>\n",
       "      <th>日付</th>\n",
       "      <th></th>\n",
       "      <th></th>\n",
       "      <th></th>\n",
       "      <th></th>\n",
       "      <th></th>\n",
       "      <th></th>\n",
       "    </tr>\n",
       "  </thead>\n",
       "  <tbody>\n",
       "    <tr>\n",
       "      <th>2016-01-04</th>\n",
       "      <td>241.0</td>\n",
       "      <td>244.4</td>\n",
       "      <td>238.9</td>\n",
       "      <td>239.7</td>\n",
       "      <td>115784400</td>\n",
       "      <td>27864941230</td>\n",
       "    </tr>\n",
       "    <tr>\n",
       "      <th>2016-01-05</th>\n",
       "      <td>238.9</td>\n",
       "      <td>241.0</td>\n",
       "      <td>238.6</td>\n",
       "      <td>239.5</td>\n",
       "      <td>129385900</td>\n",
       "      <td>31022826240</td>\n",
       "    </tr>\n",
       "    <tr>\n",
       "      <th>2016-01-06</th>\n",
       "      <td>240.5</td>\n",
       "      <td>241.8</td>\n",
       "      <td>235.4</td>\n",
       "      <td>236.5</td>\n",
       "      <td>133756300</td>\n",
       "      <td>31805845970</td>\n",
       "    </tr>\n",
       "    <tr>\n",
       "      <th>2016-01-07</th>\n",
       "      <td>236.0</td>\n",
       "      <td>237.2</td>\n",
       "      <td>230.1</td>\n",
       "      <td>231.0</td>\n",
       "      <td>181078800</td>\n",
       "      <td>42136100460</td>\n",
       "    </tr>\n",
       "    <tr>\n",
       "      <th>2016-01-08</th>\n",
       "      <td>229.1</td>\n",
       "      <td>233.5</td>\n",
       "      <td>228.7</td>\n",
       "      <td>229.4</td>\n",
       "      <td>167988400</td>\n",
       "      <td>38707250960</td>\n",
       "    </tr>\n",
       "  </tbody>\n",
       "</table>\n",
       "</div>"
      ],
      "text/plain": [
       "<div>\n",
       "<table border=\"1\" class=\"dataframe\">\n",
       "  <thead>\n",
       "    <tr style=\"text-align: right;\">\n",
       "      <th></th>\n",
       "      <th>始値</th>\n",
       "      <th>高値</th>\n",
       "      <th>安値</th>\n",
       "      <th>終値</th>\n",
       "      <th>出来高</th>\n",
       "      <th>売買代金</th>\n",
       "    </tr>\n",
       "    <tr>\n",
       "      <th>日付</th>\n",
       "      <th></th>\n",
       "      <th></th>\n",
       "      <th></th>\n",
       "      <th></th>\n",
       "      <th></th>\n",
       "      <th></th>\n",
       "    </tr>\n",
       "  </thead>\n",
       "  <tbody>\n",
       "    <tr>\n",
       "      <th>2016-01-04</th>\n",
       "      <td>241.0</td>\n",
       "      <td>244.4</td>\n",
       "      <td>238.9</td>\n",
       "      <td>239.7</td>\n",
       "      <td>115784400</td>\n",
       "      <td>27864941230</td>\n",
       "    </tr>\n",
       "    <tr>\n",
       "      <th>2016-01-05</th>\n",
       "      <td>238.9</td>\n",
       "      <td>241.0</td>\n",
       "      <td>238.6</td>\n",
       "      <td>239.5</td>\n",
       "      <td>129385900</td>\n",
       "      <td>31022826240</td>\n",
       "    </tr>\n",
       "    <tr>\n",
       "      <th>2016-01-06</th>\n",
       "      <td>240.5</td>\n",
       "      <td>241.8</td>\n",
       "      <td>235.4</td>\n",
       "      <td>236.5</td>\n",
       "      <td>133756300</td>\n",
       "      <td>31805845970</td>\n",
       "    </tr>\n",
       "    <tr>\n",
       "      <th>2016-01-07</th>\n",
       "      <td>236.0</td>\n",
       "      <td>237.2</td>\n",
       "      <td>230.1</td>\n",
       "      <td>231.0</td>\n",
       "      <td>181078800</td>\n",
       "      <td>42136100460</td>\n",
       "    </tr>\n",
       "    <tr>\n",
       "      <th>2016-01-08</th>\n",
       "      <td>229.1</td>\n",
       "      <td>233.5</td>\n",
       "      <td>228.7</td>\n",
       "      <td>229.4</td>\n",
       "      <td>167988400</td>\n",
       "      <td>38707250960</td>\n",
       "    </tr>\n",
       "  </tbody>\n",
       "</table>\n",
       "</div>"
      ]
     },
     "execution_count": 20,
     "metadata": {},
     "output_type": "execute_result"
    }
   ],
   "source": [
    "# 指定銘柄の時系列データ取得\n",
    "# freq 頻度を指定('1d', '4h', '1h', '30m', '15m', '5m')\n",
    "df = f.price(date_from=start, date_to=end, symbol='8411-T', freq='1d')\n",
    "df.head(10)"
   ]
  },
  {
   "cell_type": "code",
   "execution_count": 14,
   "metadata": {},
   "outputs": [],
   "source": [
    "# 全銘柄の時系列データ取得\n",
    "# session セッションを指定(None=全部, 'a'=前場, 'b'=後場) 省略時は全部\n",
    "df = f.price_all(date_from=start, date_to=end)\n",
    "df.head(10)"
   ]
  },
  {
   "cell_type": "code",
   "execution_count": null,
   "metadata": {},
   "outputs": [],
   "source": [
    ""
   ]
  }
 ],
 "metadata": {
  "kernelspec": {
   "display_name": "Python 2",
   "language": "python",
   "name": "python2"
  },
  "language_info": {
   "codemirror_mode": {
    "name": "ipython",
    "version": 2.0
   },
   "file_extension": ".py",
   "mimetype": "text/x-python",
   "name": "python",
   "nbconvert_exporter": "python",
   "pygments_lexer": "ipython2",
   "version": "2.7.6"
  }
 },
 "nbformat": 4,
 "nbformat_minor": 0
}